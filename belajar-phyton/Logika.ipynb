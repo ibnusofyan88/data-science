{
 "cells": [
  {
   "cell_type": "markdown",
   "id": "204d4e3f",
   "metadata": {},
   "source": [
    "# Logika"
   ]
  },
  {
   "cell_type": "code",
   "execution_count": 2,
   "id": "0992ba65",
   "metadata": {},
   "outputs": [
    {
     "name": "stdout",
     "output_type": "stream",
     "text": [
      "Yes, kamu lulus!\n"
     ]
    }
   ],
   "source": [
    "a = 80\n",
    "\n",
    "if a >= 80:\n",
    "    print('Yes, kamu lulus!')"
   ]
  },
  {
   "cell_type": "code",
   "execution_count": 3,
   "id": "5045fd10",
   "metadata": {},
   "outputs": [
    {
     "name": "stdout",
     "output_type": "stream",
     "text": [
      "Sorry, kamu harus mengulang.\n"
     ]
    }
   ],
   "source": [
    "b = 75\n",
    "\n",
    "if b >= 80:\n",
    "    print('Yes, kamu lulus!')\n",
    "else:\n",
    "    print('Sorry, kamu harus mengulang.')"
   ]
  },
  {
   "cell_type": "code",
   "execution_count": 7,
   "id": "b6455ee6",
   "metadata": {},
   "outputs": [
    {
     "name": "stdout",
     "output_type": "stream",
     "text": [
      "Kamu lulus, tapi harus mengerjakan tugas ya!\n"
     ]
    }
   ],
   "source": [
    "c = 78\n",
    "\n",
    "if c >= 80:\n",
    "    print('Yes, kamu lulus!')\n",
    "elif c >= 75:\n",
    "    print('Kamu lulus, tapi harus mengerjakan tugas ya!')\n",
    "else:\n",
    "    print('Sorry, kamu harus mengulang.')"
   ]
  },
  {
   "cell_type": "markdown",
   "id": "8d39f3b3",
   "metadata": {},
   "source": [
    "# For Loop"
   ]
  },
  {
   "cell_type": "code",
   "execution_count": 11,
   "id": "81024989",
   "metadata": {},
   "outputs": [
    {
     "name": "stdout",
     "output_type": "stream",
     "text": [
      "0\n",
      "1\n",
      "2\n",
      "3\n",
      "4\n",
      "5\n",
      "6\n"
     ]
    }
   ],
   "source": [
    "my_list = [0,1,2,3,4,5,6]\n",
    "\n",
    "for i in my_list:\n",
    "    print(i)"
   ]
  },
  {
   "cell_type": "code",
   "execution_count": 24,
   "id": "c1e3647d",
   "metadata": {},
   "outputs": [
    {
     "name": "stdout",
     "output_type": "stream",
     "text": [
      "5\n",
      "8\n",
      "11\n",
      "14\n",
      "17\n",
      "20\n",
      "23\n",
      "26\n",
      "29\n",
      "32\n"
     ]
    }
   ],
   "source": [
    "y = 2\n",
    "z = 3\n",
    "un = y\n",
    "\n",
    "for i in range(0,10):\n",
    "    un = un + z\n",
    "    print(un)"
   ]
  },
  {
   "cell_type": "markdown",
   "id": "f8741fcb",
   "metadata": {},
   "source": [
    "# While Loop"
   ]
  },
  {
   "cell_type": "code",
   "execution_count": 25,
   "id": "48dcecc1",
   "metadata": {},
   "outputs": [
    {
     "name": "stdout",
     "output_type": "stream",
     "text": [
      "1\n",
      "2\n",
      "3\n",
      "4\n",
      "5\n"
     ]
    }
   ],
   "source": [
    "n = 0\n",
    "\n",
    "while n < 5:\n",
    "    n += 1\n",
    "    print(n)"
   ]
  },
  {
   "cell_type": "code",
   "execution_count": 27,
   "id": "bf3989eb",
   "metadata": {},
   "outputs": [
    {
     "name": "stdout",
     "output_type": "stream",
     "text": [
      "5\n",
      "8\n",
      "11\n"
     ]
    }
   ],
   "source": [
    "p = 2\n",
    "q = 3\n",
    "un = p\n",
    "\n",
    "while (un <= 10):\n",
    "    un += q\n",
    "    print(un)"
   ]
  },
  {
   "cell_type": "code",
   "execution_count": null,
   "id": "24eb128a",
   "metadata": {},
   "outputs": [],
   "source": []
  }
 ],
 "metadata": {
  "kernelspec": {
   "display_name": "Python 3 (ipykernel)",
   "language": "python",
   "name": "python3"
  },
  "language_info": {
   "codemirror_mode": {
    "name": "ipython",
    "version": 3
   },
   "file_extension": ".py",
   "mimetype": "text/x-python",
   "name": "python",
   "nbconvert_exporter": "python",
   "pygments_lexer": "ipython3",
   "version": "3.9.13"
  }
 },
 "nbformat": 4,
 "nbformat_minor": 5
}
