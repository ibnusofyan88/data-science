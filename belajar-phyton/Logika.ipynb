{
 "cells": [
  {
   "cell_type": "markdown",
   "id": "615b8157",
   "metadata": {},
   "source": [
    "# Logika"
   ]
  },
  {
   "cell_type": "code",
   "execution_count": 2,
   "id": "e742c12e",
   "metadata": {},
   "outputs": [
    {
     "name": "stdout",
     "output_type": "stream",
     "text": [
      "Yes, kamu lulus!\n"
     ]
    }
   ],
   "source": [
    "a = 80\n",
    "\n",
    "if a >= 80:\n",
    "    print('Yes, kamu lulus!')"
   ]
  },
  {
   "cell_type": "code",
   "execution_count": 3,
   "id": "7f6c1f72",
   "metadata": {},
   "outputs": [
    {
     "name": "stdout",
     "output_type": "stream",
     "text": [
      "Sorry, kamu harus mengulang.\n"
     ]
    }
   ],
   "source": [
    "b = 75\n",
    "\n",
    "if b >= 80:\n",
    "    print('Yes, kamu lulus!')\n",
    "else:\n",
    "    print('Sorry, kamu harus mengulang.')"
   ]
  },
  {
   "cell_type": "code",
   "execution_count": 7,
   "id": "cd3dd595",
   "metadata": {},
   "outputs": [
    {
     "name": "stdout",
     "output_type": "stream",
     "text": [
      "Kamu lulus, tapi harus mengerjakan tugas ya!\n"
     ]
    }
   ],
   "source": [
    "c = 78\n",
    "\n",
    "if c >= 80:\n",
    "    print('Yes, kamu lulus!')\n",
    "elif c >= 75:\n",
    "    print('Kamu lulus, tapi harus mengerjakan tugas ya!')\n",
    "else:\n",
    "    print('Sorry, kamu harus mengulang.')"
   ]
  },
  {
   "cell_type": "code",
   "execution_count": null,
   "id": "2dcc9024",
   "metadata": {},
   "outputs": [],
   "source": []
  }
 ],
 "metadata": {
  "kernelspec": {
   "display_name": "Python 3 (ipykernel)",
   "language": "python",
   "name": "python3"
  },
  "language_info": {
   "codemirror_mode": {
    "name": "ipython",
    "version": 3
   },
   "file_extension": ".py",
   "mimetype": "text/x-python",
   "name": "python",
   "nbconvert_exporter": "python",
   "pygments_lexer": "ipython3",
   "version": "3.9.13"
  }
 },
 "nbformat": 4,
 "nbformat_minor": 5
}
