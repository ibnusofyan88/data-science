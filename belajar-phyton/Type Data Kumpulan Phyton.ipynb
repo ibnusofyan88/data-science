{
 "cells": [
  {
   "cell_type": "markdown",
   "id": "34e952db",
   "metadata": {},
   "source": [
    "# List"
   ]
  },
  {
   "cell_type": "code",
   "execution_count": 1,
   "id": "cae8ecba",
   "metadata": {},
   "outputs": [],
   "source": [
    "biodata=['Ibnu','Sofyan','Amirudin',33]"
   ]
  },
  {
   "cell_type": "code",
   "execution_count": 2,
   "id": "07109946",
   "metadata": {},
   "outputs": [
    {
     "name": "stdout",
     "output_type": "stream",
     "text": [
      "Ibnu\n"
     ]
    }
   ],
   "source": [
    "print(biodata[0])"
   ]
  },
  {
   "cell_type": "code",
   "execution_count": 3,
   "id": "1752bd82",
   "metadata": {},
   "outputs": [],
   "source": [
    "biodata[3]=30"
   ]
  },
  {
   "cell_type": "code",
   "execution_count": 4,
   "id": "680976ca",
   "metadata": {},
   "outputs": [
    {
     "name": "stdout",
     "output_type": "stream",
     "text": [
      "['Ibnu', 'Sofyan', 'Amirudin', 30]\n"
     ]
    }
   ],
   "source": [
    "print(biodata)"
   ]
  },
  {
   "cell_type": "code",
   "execution_count": 16,
   "id": "10e51294",
   "metadata": {},
   "outputs": [],
   "source": [
    "biodata=[['Ibnu','Sofyan','Amirudin',33],['Risma','Liza','Ica',27]]"
   ]
  },
  {
   "cell_type": "code",
   "execution_count": 19,
   "id": "36328379",
   "metadata": {},
   "outputs": [
    {
     "name": "stdout",
     "output_type": "stream",
     "text": [
      "Ica\n"
     ]
    }
   ],
   "source": [
    "print(biodata[1][2])"
   ]
  },
  {
   "cell_type": "markdown",
   "id": "ef0771f6",
   "metadata": {},
   "source": [
    "# Tuple"
   ]
  },
  {
   "cell_type": "code",
   "execution_count": 11,
   "id": "d16f6448",
   "metadata": {},
   "outputs": [],
   "source": [
    "biodataTuple=('Ibnoe','Sofyan','Amirudin',33)"
   ]
  },
  {
   "cell_type": "code",
   "execution_count": 14,
   "id": "94b4556c",
   "metadata": {},
   "outputs": [
    {
     "name": "stdout",
     "output_type": "stream",
     "text": [
      "Ibnoe\n"
     ]
    }
   ],
   "source": [
    "print(biodataTuple[0])"
   ]
  },
  {
   "cell_type": "code",
   "execution_count": 20,
   "id": "ff14614d",
   "metadata": {},
   "outputs": [],
   "source": [
    "biodataTuple=(('Ibnoe','Sofyan','Amirudin',33),('Risma','Liza','Ica',27))"
   ]
  },
  {
   "cell_type": "code",
   "execution_count": 21,
   "id": "b1e710d3",
   "metadata": {},
   "outputs": [
    {
     "name": "stdout",
     "output_type": "stream",
     "text": [
      "Liza\n"
     ]
    }
   ],
   "source": [
    "print(biodataTuple[1][1])"
   ]
  },
  {
   "cell_type": "code",
   "execution_count": 22,
   "id": "da74bec1",
   "metadata": {},
   "outputs": [
    {
     "ename": "TypeError",
     "evalue": "'tuple' object does not support item assignment",
     "output_type": "error",
     "traceback": [
      "\u001b[1;31m---------------------------------------------------------------------------\u001b[0m",
      "\u001b[1;31mTypeError\u001b[0m                                 Traceback (most recent call last)",
      "\u001b[1;32m~\\AppData\\Local\\Temp\\ipykernel_1548\\68298409.py\u001b[0m in \u001b[0;36m<module>\u001b[1;34m\u001b[0m\n\u001b[1;32m----> 1\u001b[1;33m \u001b[0mbiodataTuple\u001b[0m\u001b[1;33m[\u001b[0m\u001b[1;36m0\u001b[0m\u001b[1;33m]\u001b[0m\u001b[1;33m[\u001b[0m\u001b[1;36m0\u001b[0m\u001b[1;33m]\u001b[0m\u001b[1;33m=\u001b[0m\u001b[1;34m'Ibnu'\u001b[0m\u001b[1;33m\u001b[0m\u001b[1;33m\u001b[0m\u001b[0m\n\u001b[0m",
      "\u001b[1;31mTypeError\u001b[0m: 'tuple' object does not support item assignment"
     ]
    }
   ],
   "source": [
    "biodataTuple[0][0]='Ibnu'"
   ]
  },
  {
   "cell_type": "markdown",
   "id": "04ceee86",
   "metadata": {},
   "source": [
    "# Set"
   ]
  },
  {
   "cell_type": "code",
   "execution_count": 23,
   "id": "ffa48107",
   "metadata": {},
   "outputs": [],
   "source": [
    "biodataSet={'Ibnu','Sofyan','Ibnu', 'Amirudin'}"
   ]
  },
  {
   "cell_type": "code",
   "execution_count": 24,
   "id": "d038bfac",
   "metadata": {},
   "outputs": [
    {
     "name": "stdout",
     "output_type": "stream",
     "text": [
      "{'Ibnu', 'Sofyan', 'Amirudin'}\n"
     ]
    }
   ],
   "source": [
    "print(biodataSet)"
   ]
  },
  {
   "cell_type": "markdown",
   "id": "6cc41d11",
   "metadata": {},
   "source": [
    "# Dictionary"
   ]
  },
  {
   "cell_type": "code",
   "execution_count": 26,
   "id": "ae8fc4c9",
   "metadata": {},
   "outputs": [],
   "source": [
    "biodataDict = {'Nama':'Ibnu Sofyan Amirudin','Umur':33,'Alamat':'Proland Cibininong'}"
   ]
  },
  {
   "cell_type": "code",
   "execution_count": 27,
   "id": "88e5f132",
   "metadata": {},
   "outputs": [
    {
     "name": "stdout",
     "output_type": "stream",
     "text": [
      "{'Nama': 'Ibnu Sofyan Amirudin', 'Umur': 33, 'Alamat': 'Proland Cibininong'}\n"
     ]
    }
   ],
   "source": [
    "print(biodataDict)"
   ]
  },
  {
   "cell_type": "code",
   "execution_count": 28,
   "id": "7ae9de26",
   "metadata": {},
   "outputs": [
    {
     "ename": "AttributeError",
     "evalue": "'dict' object has no attribute 'Nama'",
     "output_type": "error",
     "traceback": [
      "\u001b[1;31m---------------------------------------------------------------------------\u001b[0m",
      "\u001b[1;31mAttributeError\u001b[0m                            Traceback (most recent call last)",
      "\u001b[1;32m~\\AppData\\Local\\Temp\\ipykernel_1548\\1428872098.py\u001b[0m in \u001b[0;36m<module>\u001b[1;34m\u001b[0m\n\u001b[1;32m----> 1\u001b[1;33m \u001b[0mprint\u001b[0m\u001b[1;33m(\u001b[0m\u001b[0mbiodataDict\u001b[0m\u001b[1;33m.\u001b[0m\u001b[0mNama\u001b[0m\u001b[1;33m)\u001b[0m\u001b[1;33m\u001b[0m\u001b[1;33m\u001b[0m\u001b[0m\n\u001b[0m",
      "\u001b[1;31mAttributeError\u001b[0m: 'dict' object has no attribute 'Nama'"
     ]
    }
   ],
   "source": [
    "print(biodataDict.Nama)"
   ]
  },
  {
   "cell_type": "code",
   "execution_count": 31,
   "id": "290131b8",
   "metadata": {},
   "outputs": [
    {
     "data": {
      "text/plain": [
       "'Ibnu Sofyan Amirudin'"
      ]
     },
     "execution_count": 31,
     "metadata": {},
     "output_type": "execute_result"
    }
   ],
   "source": [
    "biodataDict['Nama']"
   ]
  },
  {
   "cell_type": "code",
   "execution_count": 34,
   "id": "d323c3e1",
   "metadata": {},
   "outputs": [],
   "source": [
    "biodataDict['Nama']='Rismaliza'\n",
    "biodataDict['Umur']=27"
   ]
  },
  {
   "cell_type": "code",
   "execution_count": 35,
   "id": "6137be0e",
   "metadata": {},
   "outputs": [
    {
     "data": {
      "text/plain": [
       "{'Nama': 'Rismaliza', 'Umur': 27, 'Alamat': 'Proland Cibininong'}"
      ]
     },
     "execution_count": 35,
     "metadata": {},
     "output_type": "execute_result"
    }
   ],
   "source": [
    "biodataDict"
   ]
  },
  {
   "cell_type": "code",
   "execution_count": null,
   "id": "149598f9",
   "metadata": {},
   "outputs": [],
   "source": []
  }
 ],
 "metadata": {
  "kernelspec": {
   "display_name": "Python 3 (ipykernel)",
   "language": "python",
   "name": "python3"
  },
  "language_info": {
   "codemirror_mode": {
    "name": "ipython",
    "version": 3
   },
   "file_extension": ".py",
   "mimetype": "text/x-python",
   "name": "python",
   "nbconvert_exporter": "python",
   "pygments_lexer": "ipython3",
   "version": "3.9.13"
  }
 },
 "nbformat": 4,
 "nbformat_minor": 5
}
