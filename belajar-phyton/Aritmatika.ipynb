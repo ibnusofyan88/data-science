{
 "cells": [
  {
   "cell_type": "markdown",
   "id": "cb71feea",
   "metadata": {},
   "source": [
    "# Aritmatika"
   ]
  },
  {
   "cell_type": "markdown",
   "id": "a37b0959",
   "metadata": {},
   "source": [
    "// Integer + Double"
   ]
  },
  {
   "cell_type": "code",
   "execution_count": 10,
   "id": "49f3d6e8",
   "metadata": {},
   "outputs": [],
   "source": [
    "a = 1000+5.9\n",
    "a1 = 5 * 3"
   ]
  },
  {
   "cell_type": "code",
   "execution_count": 11,
   "id": "96c3f038",
   "metadata": {},
   "outputs": [
    {
     "name": "stdout",
     "output_type": "stream",
     "text": [
      "1005.9\n",
      "15\n"
     ]
    }
   ],
   "source": [
    "print(a)\n",
    "print(a1)"
   ]
  },
  {
   "cell_type": "markdown",
   "id": "e7a6e67c",
   "metadata": {},
   "source": [
    "// String"
   ]
  },
  {
   "cell_type": "code",
   "execution_count": 4,
   "id": "ad0ccd4c",
   "metadata": {},
   "outputs": [],
   "source": [
    "b = \"Indonesia\"\n",
    "c = \" Jaya\""
   ]
  },
  {
   "cell_type": "code",
   "execution_count": 5,
   "id": "1c2fda41",
   "metadata": {},
   "outputs": [
    {
     "name": "stdout",
     "output_type": "stream",
     "text": [
      "Indonesia Jaya\n"
     ]
    }
   ],
   "source": [
    "print(b+c)"
   ]
  },
  {
   "cell_type": "code",
   "execution_count": 20,
   "id": "5286bc70",
   "metadata": {},
   "outputs": [
    {
     "name": "stdout",
     "output_type": "stream",
     "text": [
      "IndonesiaIndonesiaIndonesiaIndonesiaIndonesia\n"
     ]
    }
   ],
   "source": [
    "print(b * 5)"
   ]
  },
  {
   "cell_type": "markdown",
   "id": "764f114a",
   "metadata": {},
   "source": [
    "// Pangkat"
   ]
  },
  {
   "cell_type": "code",
   "execution_count": 12,
   "id": "b997bcbc",
   "metadata": {},
   "outputs": [],
   "source": [
    "d = 5 ** 3"
   ]
  },
  {
   "cell_type": "code",
   "execution_count": 13,
   "id": "92d4101a",
   "metadata": {},
   "outputs": [
    {
     "name": "stdout",
     "output_type": "stream",
     "text": [
      "125\n"
     ]
    }
   ],
   "source": [
    "print(d)"
   ]
  },
  {
   "cell_type": "markdown",
   "id": "e2047e4e",
   "metadata": {},
   "source": [
    "// Modulo => Sisa bagi hasil"
   ]
  },
  {
   "cell_type": "code",
   "execution_count": 14,
   "id": "928f5f00",
   "metadata": {},
   "outputs": [],
   "source": [
    "e = 10 % 3"
   ]
  },
  {
   "cell_type": "code",
   "execution_count": 16,
   "id": "f3e010c2",
   "metadata": {},
   "outputs": [
    {
     "name": "stdout",
     "output_type": "stream",
     "text": [
      "1\n"
     ]
    }
   ],
   "source": [
    "print(e)  #10/3 => 3 * 3 = 9 => 10-9 = 1"
   ]
  },
  {
   "cell_type": "markdown",
   "id": "41819df0",
   "metadata": {},
   "source": [
    "// Floor => Pembulatan"
   ]
  },
  {
   "cell_type": "code",
   "execution_count": 17,
   "id": "2e5b21ea",
   "metadata": {},
   "outputs": [],
   "source": [
    "f = 10 // 3"
   ]
  },
  {
   "cell_type": "code",
   "execution_count": 19,
   "id": "77206c2b",
   "metadata": {},
   "outputs": [
    {
     "name": "stdout",
     "output_type": "stream",
     "text": [
      "3\n"
     ]
    }
   ],
   "source": [
    "print(f)  # 10 / 3 = 3.33333 => dibulatkan menjadi 3"
   ]
  },
  {
   "cell_type": "code",
   "execution_count": null,
   "id": "c6df455e",
   "metadata": {},
   "outputs": [],
   "source": []
  }
 ],
 "metadata": {
  "kernelspec": {
   "display_name": "Python 3 (ipykernel)",
   "language": "python",
   "name": "python3"
  },
  "language_info": {
   "codemirror_mode": {
    "name": "ipython",
    "version": 3
   },
   "file_extension": ".py",
   "mimetype": "text/x-python",
   "name": "python",
   "nbconvert_exporter": "python",
   "pygments_lexer": "ipython3",
   "version": "3.9.13"
  }
 },
 "nbformat": 4,
 "nbformat_minor": 5
}
